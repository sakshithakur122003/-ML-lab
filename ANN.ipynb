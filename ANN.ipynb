{
  "nbformat": 4,
  "nbformat_minor": 0,
  "metadata": {
    "colab": {
      "provenance": [],
      "authorship_tag": "ABX9TyMycBYWkSOv7ObyGHcNeYkK",
      "include_colab_link": true
    },
    "kernelspec": {
      "name": "python3",
      "display_name": "Python 3"
    },
    "language_info": {
      "name": "python"
    }
  },
  "cells": [
    {
      "cell_type": "markdown",
      "metadata": {
        "id": "view-in-github",
        "colab_type": "text"
      },
      "source": [
        "<a href=\"https://colab.research.google.com/github/sakshithakur122003/ML-lab/blob/main/ANN.ipynb\" target=\"_parent\"><img src=\"https://colab.research.google.com/assets/colab-badge.svg\" alt=\"Open In Colab\"/></a>"
      ]
    },
    {
      "cell_type": "code",
      "source": [
        "from keras.datasets import mnist\n",
        "(train_images, train_labels), (test_images, test_labels) = mnist.load_data()\n",
        ""
      ],
      "metadata": {
        "colab": {
          "base_uri": "https://localhost:8080/"
        },
        "id": "5G0IQsRAk8sW",
        "outputId": "9a4497a1-0b46-4148-bf03-63530a71c87d"
      },
      "execution_count": 1,
      "outputs": [
        {
          "output_type": "stream",
          "name": "stdout",
          "text": [
            "Downloading data from https://storage.googleapis.com/tensorflow/tf-keras-datasets/mnist.npz\n",
            "11490434/11490434 [==============================] - 1s 0us/step\n"
          ]
        }
      ]
    },
    {
      "cell_type": "markdown",
      "source": [
        "Training Images"
      ],
      "metadata": {
        "id": "m8Hb5_W4lHtt"
      }
    },
    {
      "cell_type": "code",
      "source": [
        "train_images.shape\n",
        "len(train_labels)\n",
        "train_labels\n",
        "test_images.shape\n",
        "len(test_labels)\n",
        "test_labels\n",
        ""
      ],
      "metadata": {
        "colab": {
          "base_uri": "https://localhost:8080/"
        },
        "id": "QH9QiTvolJJl",
        "outputId": "4f9dfada-9f9c-4121-f5a8-823ab0cc7a75"
      },
      "execution_count": 2,
      "outputs": [
        {
          "output_type": "execute_result",
          "data": {
            "text/plain": [
              "array([7, 2, 1, ..., 4, 5, 6], dtype=uint8)"
            ]
          },
          "metadata": {},
          "execution_count": 2
        }
      ]
    },
    {
      "cell_type": "code",
      "source": [
        "from keras import models\n",
        "from keras import layers\n",
        "network = models.Sequential()\n",
        "# Dense(32) is a fully-connected layer with 32 hidden units.\n",
        "# in the first layer, you must specify the expected input data shape :\n",
        "# here, 28 X 28=784 -dimensional vectors.\n",
        "network.add(layers.Dense(32, activation='sigmoid', input_shape=(28 * 28, )))\n",
        "network.add(layers.Dense(8, activation='sigmoid'))\n",
        "network.add(layers.Dense(10, activation='softmax'))\n",
        "network.summary()\n",
        "from google.colab import drive\n",
        "drive.mount('/content/drive')"
      ],
      "metadata": {
        "colab": {
          "base_uri": "https://localhost:8080/"
        },
        "id": "jiaDzWbelQ9t",
        "outputId": "3a7a9458-b5b4-40e6-ca81-23841bcf0f51"
      },
      "execution_count": 4,
      "outputs": [
        {
          "output_type": "stream",
          "name": "stdout",
          "text": [
            "Model: \"sequential_1\"\n",
            "_________________________________________________________________\n",
            " Layer (type)                Output Shape              Param #   \n",
            "=================================================================\n",
            " dense_3 (Dense)             (None, 32)                25120     \n",
            "                                                                 \n",
            " dense_4 (Dense)             (None, 8)                 264       \n",
            "                                                                 \n",
            " dense_5 (Dense)             (None, 10)                90        \n",
            "                                                                 \n",
            "=================================================================\n",
            "Total params: 25474 (99.51 KB)\n",
            "Trainable params: 25474 (99.51 KB)\n",
            "Non-trainable params: 0 (0.00 Byte)\n",
            "_________________________________________________________________\n",
            "Mounted at /content/drive\n"
          ]
        }
      ]
    },
    {
      "cell_type": "code",
      "source": [
        "\n",
        "network.compile(optimizer='sgd',\n",
        "                loss='categorical_crossentropy',\n",
        "                metrics=['accuracy'])"
      ],
      "metadata": {
        "id": "i_uapSFRlw23"
      },
      "execution_count": 5,
      "outputs": []
    },
    {
      "cell_type": "code",
      "source": [
        "train_images = train_images.reshape((60000, 28 * 28))\n",
        "train_images = train_images.astype('float32') / 255.\n",
        "test_images = test_images.reshape((10000, 28 * 28))\n",
        "test_images = test_images.astype('float32') / 255."
      ],
      "metadata": {
        "id": "Wdxy5cb1l0g8"
      },
      "execution_count": 6,
      "outputs": []
    },
    {
      "cell_type": "code",
      "source": [
        "from keras.utils import to_categorical\n",
        "train_labels = to_categorical(train_labels)\n",
        "train_labels\n",
        "test_labels = to_categorical(test_labels)\n",
        "test_labels"
      ],
      "metadata": {
        "colab": {
          "base_uri": "https://localhost:8080/"
        },
        "id": "Q2YWe9MUl4w0",
        "outputId": "81443fdf-5d42-4a3c-b552-190e5ec42cf7"
      },
      "execution_count": 7,
      "outputs": [
        {
          "output_type": "execute_result",
          "data": {
            "text/plain": [
              "array([[0., 0., 0., ..., 1., 0., 0.],\n",
              "       [0., 0., 1., ..., 0., 0., 0.],\n",
              "       [0., 1., 0., ..., 0., 0., 0.],\n",
              "       ...,\n",
              "       [0., 0., 0., ..., 0., 0., 0.],\n",
              "       [0., 0., 0., ..., 0., 0., 0.],\n",
              "       [0., 0., 0., ..., 0., 0., 0.]], dtype=float32)"
            ]
          },
          "metadata": {},
          "execution_count": 7
        }
      ]
    },
    {
      "cell_type": "code",
      "source": [
        "network.fit(train_images, train_labels, epochs=160, batch_size=512)"
      ],
      "metadata": {
        "colab": {
          "base_uri": "https://localhost:8080/"
        },
        "id": "n2dJETWVl_78",
        "outputId": "46dac1cf-9073-45ff-fe82-612766e1c7b8"
      },
      "execution_count": 8,
      "outputs": [
        {
          "output_type": "stream",
          "name": "stdout",
          "text": [
            "Epoch 1/160\n",
            "118/118 [==============================] - 1s 3ms/step - loss: 2.3974 - accuracy: 0.0975\n",
            "Epoch 2/160\n",
            "118/118 [==============================] - 0s 3ms/step - loss: 2.3321 - accuracy: 0.0975\n",
            "Epoch 3/160\n",
            "118/118 [==============================] - 0s 3ms/step - loss: 2.3071 - accuracy: 0.0974\n",
            "Epoch 4/160\n",
            "118/118 [==============================] - 0s 3ms/step - loss: 2.2948 - accuracy: 0.0983\n",
            "Epoch 5/160\n",
            "118/118 [==============================] - 0s 3ms/step - loss: 2.2872 - accuracy: 0.1130\n",
            "Epoch 6/160\n",
            "118/118 [==============================] - 0s 3ms/step - loss: 2.2813 - accuracy: 0.1424\n",
            "Epoch 7/160\n",
            "118/118 [==============================] - 0s 3ms/step - loss: 2.2761 - accuracy: 0.2235\n",
            "Epoch 8/160\n",
            "118/118 [==============================] - 0s 3ms/step - loss: 2.2711 - accuracy: 0.2130\n",
            "Epoch 9/160\n",
            "118/118 [==============================] - 0s 4ms/step - loss: 2.2660 - accuracy: 0.2057\n",
            "Epoch 10/160\n",
            "118/118 [==============================] - 1s 5ms/step - loss: 2.2607 - accuracy: 0.2079\n",
            "Epoch 11/160\n",
            "118/118 [==============================] - 1s 5ms/step - loss: 2.2550 - accuracy: 0.2212\n",
            "Epoch 12/160\n",
            "118/118 [==============================] - 1s 5ms/step - loss: 2.2490 - accuracy: 0.2329\n",
            "Epoch 13/160\n",
            "118/118 [==============================] - 1s 4ms/step - loss: 2.2425 - accuracy: 0.2513\n",
            "Epoch 14/160\n",
            "118/118 [==============================] - 0s 3ms/step - loss: 2.2355 - accuracy: 0.2683\n",
            "Epoch 15/160\n",
            "118/118 [==============================] - 0s 3ms/step - loss: 2.2280 - accuracy: 0.2952\n",
            "Epoch 16/160\n",
            "118/118 [==============================] - 0s 3ms/step - loss: 2.2199 - accuracy: 0.3253\n",
            "Epoch 17/160\n",
            "118/118 [==============================] - 0s 3ms/step - loss: 2.2111 - accuracy: 0.3528\n",
            "Epoch 18/160\n",
            "118/118 [==============================] - 0s 3ms/step - loss: 2.2016 - accuracy: 0.3743\n",
            "Epoch 19/160\n",
            "118/118 [==============================] - 0s 3ms/step - loss: 2.1914 - accuracy: 0.4062\n",
            "Epoch 20/160\n",
            "118/118 [==============================] - 0s 3ms/step - loss: 2.1804 - accuracy: 0.4270\n",
            "Epoch 21/160\n",
            "118/118 [==============================] - 0s 3ms/step - loss: 2.1684 - accuracy: 0.4470\n",
            "Epoch 22/160\n",
            "118/118 [==============================] - 0s 3ms/step - loss: 2.1556 - accuracy: 0.4628\n",
            "Epoch 23/160\n",
            "118/118 [==============================] - 0s 3ms/step - loss: 2.1419 - accuracy: 0.4788\n",
            "Epoch 24/160\n",
            "118/118 [==============================] - 0s 3ms/step - loss: 2.1272 - accuracy: 0.4861\n",
            "Epoch 25/160\n",
            "118/118 [==============================] - 0s 3ms/step - loss: 2.1115 - accuracy: 0.4977\n",
            "Epoch 26/160\n",
            "118/118 [==============================] - 0s 3ms/step - loss: 2.0949 - accuracy: 0.5045\n",
            "Epoch 27/160\n",
            "118/118 [==============================] - 0s 3ms/step - loss: 2.0774 - accuracy: 0.5067\n",
            "Epoch 28/160\n",
            "118/118 [==============================] - 0s 3ms/step - loss: 2.0591 - accuracy: 0.5103\n",
            "Epoch 29/160\n",
            "118/118 [==============================] - 0s 3ms/step - loss: 2.0399 - accuracy: 0.5125\n",
            "Epoch 30/160\n",
            "118/118 [==============================] - 0s 3ms/step - loss: 2.0201 - accuracy: 0.5153\n",
            "Epoch 31/160\n",
            "118/118 [==============================] - 0s 3ms/step - loss: 1.9997 - accuracy: 0.5170\n",
            "Epoch 32/160\n",
            "118/118 [==============================] - 0s 3ms/step - loss: 1.9789 - accuracy: 0.5156\n",
            "Epoch 33/160\n",
            "118/118 [==============================] - 0s 3ms/step - loss: 1.9577 - accuracy: 0.5163\n",
            "Epoch 34/160\n",
            "118/118 [==============================] - 0s 3ms/step - loss: 1.9363 - accuracy: 0.5171\n",
            "Epoch 35/160\n",
            "118/118 [==============================] - 0s 3ms/step - loss: 1.9148 - accuracy: 0.5222\n",
            "Epoch 36/160\n",
            "118/118 [==============================] - 0s 3ms/step - loss: 1.8932 - accuracy: 0.5210\n",
            "Epoch 37/160\n",
            "118/118 [==============================] - 0s 3ms/step - loss: 1.8717 - accuracy: 0.5229\n",
            "Epoch 38/160\n",
            "118/118 [==============================] - 0s 3ms/step - loss: 1.8502 - accuracy: 0.5259\n",
            "Epoch 39/160\n",
            "118/118 [==============================] - 0s 3ms/step - loss: 1.8289 - accuracy: 0.5303\n",
            "Epoch 40/160\n",
            "118/118 [==============================] - 0s 3ms/step - loss: 1.8078 - accuracy: 0.5327\n",
            "Epoch 41/160\n",
            "118/118 [==============================] - 0s 3ms/step - loss: 1.7869 - accuracy: 0.5361\n",
            "Epoch 42/160\n",
            "118/118 [==============================] - 0s 3ms/step - loss: 1.7661 - accuracy: 0.5405\n",
            "Epoch 43/160\n",
            "118/118 [==============================] - 1s 4ms/step - loss: 1.7455 - accuracy: 0.5427\n",
            "Epoch 44/160\n",
            "118/118 [==============================] - 1s 4ms/step - loss: 1.7252 - accuracy: 0.5469\n",
            "Epoch 45/160\n",
            "118/118 [==============================] - 1s 4ms/step - loss: 1.7050 - accuracy: 0.5490\n",
            "Epoch 46/160\n",
            "118/118 [==============================] - 1s 4ms/step - loss: 1.6851 - accuracy: 0.5534\n",
            "Epoch 47/160\n",
            "118/118 [==============================] - 0s 4ms/step - loss: 1.6653 - accuracy: 0.5551\n",
            "Epoch 48/160\n",
            "118/118 [==============================] - 0s 3ms/step - loss: 1.6458 - accuracy: 0.5575\n",
            "Epoch 49/160\n",
            "118/118 [==============================] - 0s 3ms/step - loss: 1.6265 - accuracy: 0.5617\n",
            "Epoch 50/160\n",
            "118/118 [==============================] - 0s 3ms/step - loss: 1.6075 - accuracy: 0.5645\n",
            "Epoch 51/160\n",
            "118/118 [==============================] - 0s 3ms/step - loss: 1.5887 - accuracy: 0.5670\n",
            "Epoch 52/160\n",
            "118/118 [==============================] - 0s 3ms/step - loss: 1.5702 - accuracy: 0.5694\n",
            "Epoch 53/160\n",
            "118/118 [==============================] - 0s 3ms/step - loss: 1.5520 - accuracy: 0.5720\n",
            "Epoch 54/160\n",
            "118/118 [==============================] - 0s 3ms/step - loss: 1.5341 - accuracy: 0.5756\n",
            "Epoch 55/160\n",
            "118/118 [==============================] - 0s 3ms/step - loss: 1.5165 - accuracy: 0.5776\n",
            "Epoch 56/160\n",
            "118/118 [==============================] - 0s 3ms/step - loss: 1.4992 - accuracy: 0.5809\n",
            "Epoch 57/160\n",
            "118/118 [==============================] - 0s 3ms/step - loss: 1.4824 - accuracy: 0.5830\n",
            "Epoch 58/160\n",
            "118/118 [==============================] - 0s 3ms/step - loss: 1.4658 - accuracy: 0.5863\n",
            "Epoch 59/160\n",
            "118/118 [==============================] - 0s 3ms/step - loss: 1.4495 - accuracy: 0.5889\n",
            "Epoch 60/160\n",
            "118/118 [==============================] - 0s 3ms/step - loss: 1.4336 - accuracy: 0.5922\n",
            "Epoch 61/160\n",
            "118/118 [==============================] - 0s 3ms/step - loss: 1.4181 - accuracy: 0.5945\n",
            "Epoch 62/160\n",
            "118/118 [==============================] - 0s 3ms/step - loss: 1.4029 - accuracy: 0.5980\n",
            "Epoch 63/160\n",
            "118/118 [==============================] - 0s 3ms/step - loss: 1.3880 - accuracy: 0.6005\n",
            "Epoch 64/160\n",
            "118/118 [==============================] - 0s 3ms/step - loss: 1.3735 - accuracy: 0.6041\n",
            "Epoch 65/160\n",
            "118/118 [==============================] - 0s 3ms/step - loss: 1.3592 - accuracy: 0.6069\n",
            "Epoch 66/160\n",
            "118/118 [==============================] - 0s 3ms/step - loss: 1.3453 - accuracy: 0.6098\n",
            "Epoch 67/160\n",
            "118/118 [==============================] - 0s 3ms/step - loss: 1.3317 - accuracy: 0.6134\n",
            "Epoch 68/160\n",
            "118/118 [==============================] - 0s 3ms/step - loss: 1.3184 - accuracy: 0.6157\n",
            "Epoch 69/160\n",
            "118/118 [==============================] - 0s 3ms/step - loss: 1.3053 - accuracy: 0.6194\n",
            "Epoch 70/160\n",
            "118/118 [==============================] - 0s 3ms/step - loss: 1.2926 - accuracy: 0.6231\n",
            "Epoch 71/160\n",
            "118/118 [==============================] - 0s 3ms/step - loss: 1.2800 - accuracy: 0.6265\n",
            "Epoch 72/160\n",
            "118/118 [==============================] - 0s 3ms/step - loss: 1.2677 - accuracy: 0.6300\n",
            "Epoch 73/160\n",
            "118/118 [==============================] - 0s 3ms/step - loss: 1.2557 - accuracy: 0.6337\n",
            "Epoch 74/160\n",
            "118/118 [==============================] - 0s 3ms/step - loss: 1.2438 - accuracy: 0.6376\n",
            "Epoch 75/160\n",
            "118/118 [==============================] - 0s 3ms/step - loss: 1.2321 - accuracy: 0.6420\n",
            "Epoch 76/160\n",
            "118/118 [==============================] - 0s 3ms/step - loss: 1.2207 - accuracy: 0.6468\n",
            "Epoch 77/160\n",
            "118/118 [==============================] - 1s 5ms/step - loss: 1.2093 - accuracy: 0.6487\n",
            "Epoch 78/160\n",
            "118/118 [==============================] - 1s 5ms/step - loss: 1.1982 - accuracy: 0.6534\n",
            "Epoch 79/160\n",
            "118/118 [==============================] - 1s 4ms/step - loss: 1.1872 - accuracy: 0.6586\n",
            "Epoch 80/160\n",
            "118/118 [==============================] - 1s 5ms/step - loss: 1.1764 - accuracy: 0.6634\n",
            "Epoch 81/160\n",
            "118/118 [==============================] - 0s 4ms/step - loss: 1.1657 - accuracy: 0.6662\n",
            "Epoch 82/160\n",
            "118/118 [==============================] - 0s 3ms/step - loss: 1.1551 - accuracy: 0.6715\n",
            "Epoch 83/160\n",
            "118/118 [==============================] - 0s 3ms/step - loss: 1.1446 - accuracy: 0.6744\n",
            "Epoch 84/160\n",
            "118/118 [==============================] - 0s 3ms/step - loss: 1.1342 - accuracy: 0.6793\n",
            "Epoch 85/160\n",
            "118/118 [==============================] - 0s 3ms/step - loss: 1.1240 - accuracy: 0.6845\n",
            "Epoch 86/160\n",
            "118/118 [==============================] - 0s 3ms/step - loss: 1.1139 - accuracy: 0.6877\n",
            "Epoch 87/160\n",
            "118/118 [==============================] - 0s 3ms/step - loss: 1.1038 - accuracy: 0.6919\n",
            "Epoch 88/160\n",
            "118/118 [==============================] - 0s 3ms/step - loss: 1.0939 - accuracy: 0.6962\n",
            "Epoch 89/160\n",
            "118/118 [==============================] - 1s 5ms/step - loss: 1.0840 - accuracy: 0.7005\n",
            "Epoch 90/160\n",
            "118/118 [==============================] - 0s 3ms/step - loss: 1.0743 - accuracy: 0.7042\n",
            "Epoch 91/160\n",
            "118/118 [==============================] - 1s 4ms/step - loss: 1.0647 - accuracy: 0.7074\n",
            "Epoch 92/160\n",
            "118/118 [==============================] - 0s 3ms/step - loss: 1.0551 - accuracy: 0.7114\n",
            "Epoch 93/160\n",
            "118/118 [==============================] - 0s 3ms/step - loss: 1.0457 - accuracy: 0.7160\n",
            "Epoch 94/160\n",
            "118/118 [==============================] - 0s 3ms/step - loss: 1.0364 - accuracy: 0.7204\n",
            "Epoch 95/160\n",
            "118/118 [==============================] - 0s 3ms/step - loss: 1.0271 - accuracy: 0.7237\n",
            "Epoch 96/160\n",
            "118/118 [==============================] - 0s 3ms/step - loss: 1.0180 - accuracy: 0.7263\n",
            "Epoch 97/160\n",
            "118/118 [==============================] - 0s 3ms/step - loss: 1.0090 - accuracy: 0.7311\n",
            "Epoch 98/160\n",
            "118/118 [==============================] - 0s 3ms/step - loss: 1.0001 - accuracy: 0.7341\n",
            "Epoch 99/160\n",
            "118/118 [==============================] - 0s 3ms/step - loss: 0.9913 - accuracy: 0.7376\n",
            "Epoch 100/160\n",
            "118/118 [==============================] - 0s 3ms/step - loss: 0.9827 - accuracy: 0.7407\n",
            "Epoch 101/160\n",
            "118/118 [==============================] - 0s 3ms/step - loss: 0.9741 - accuracy: 0.7429\n",
            "Epoch 102/160\n",
            "118/118 [==============================] - 0s 3ms/step - loss: 0.9657 - accuracy: 0.7457\n",
            "Epoch 103/160\n",
            "118/118 [==============================] - 0s 3ms/step - loss: 0.9574 - accuracy: 0.7498\n",
            "Epoch 104/160\n",
            "118/118 [==============================] - 0s 3ms/step - loss: 0.9492 - accuracy: 0.7529\n",
            "Epoch 105/160\n",
            "118/118 [==============================] - 0s 3ms/step - loss: 0.9411 - accuracy: 0.7555\n",
            "Epoch 106/160\n",
            "118/118 [==============================] - 0s 3ms/step - loss: 0.9332 - accuracy: 0.7586\n",
            "Epoch 107/160\n",
            "118/118 [==============================] - 0s 3ms/step - loss: 0.9254 - accuracy: 0.7601\n",
            "Epoch 108/160\n",
            "118/118 [==============================] - 0s 4ms/step - loss: 0.9177 - accuracy: 0.7631\n",
            "Epoch 109/160\n",
            "118/118 [==============================] - 1s 4ms/step - loss: 0.9102 - accuracy: 0.7655\n",
            "Epoch 110/160\n",
            "118/118 [==============================] - 0s 4ms/step - loss: 0.9027 - accuracy: 0.7676\n",
            "Epoch 111/160\n",
            "118/118 [==============================] - 1s 4ms/step - loss: 0.8955 - accuracy: 0.7707\n",
            "Epoch 112/160\n",
            "118/118 [==============================] - 1s 4ms/step - loss: 0.8883 - accuracy: 0.7722\n",
            "Epoch 113/160\n",
            "118/118 [==============================] - 0s 3ms/step - loss: 0.8813 - accuracy: 0.7748\n",
            "Epoch 114/160\n",
            "118/118 [==============================] - 0s 3ms/step - loss: 0.8743 - accuracy: 0.7763\n",
            "Epoch 115/160\n",
            "118/118 [==============================] - 0s 3ms/step - loss: 0.8676 - accuracy: 0.7781\n",
            "Epoch 116/160\n",
            "118/118 [==============================] - 0s 3ms/step - loss: 0.8609 - accuracy: 0.7796\n",
            "Epoch 117/160\n",
            "118/118 [==============================] - 0s 3ms/step - loss: 0.8544 - accuracy: 0.7811\n",
            "Epoch 118/160\n",
            "118/118 [==============================] - 0s 3ms/step - loss: 0.8480 - accuracy: 0.7832\n",
            "Epoch 119/160\n",
            "118/118 [==============================] - 0s 3ms/step - loss: 0.8417 - accuracy: 0.7849\n",
            "Epoch 120/160\n",
            "118/118 [==============================] - 0s 3ms/step - loss: 0.8355 - accuracy: 0.7872\n",
            "Epoch 121/160\n",
            "118/118 [==============================] - 0s 3ms/step - loss: 0.8294 - accuracy: 0.7886\n",
            "Epoch 122/160\n",
            "118/118 [==============================] - 0s 3ms/step - loss: 0.8235 - accuracy: 0.7898\n",
            "Epoch 123/160\n",
            "118/118 [==============================] - 0s 3ms/step - loss: 0.8176 - accuracy: 0.7919\n",
            "Epoch 124/160\n",
            "118/118 [==============================] - 0s 3ms/step - loss: 0.8119 - accuracy: 0.7927\n",
            "Epoch 125/160\n",
            "118/118 [==============================] - 0s 3ms/step - loss: 0.8063 - accuracy: 0.7951\n",
            "Epoch 126/160\n",
            "118/118 [==============================] - 0s 3ms/step - loss: 0.8008 - accuracy: 0.7964\n",
            "Epoch 127/160\n",
            "118/118 [==============================] - 0s 3ms/step - loss: 0.7954 - accuracy: 0.7983\n",
            "Epoch 128/160\n",
            "118/118 [==============================] - 0s 3ms/step - loss: 0.7900 - accuracy: 0.7991\n",
            "Epoch 129/160\n",
            "118/118 [==============================] - 0s 3ms/step - loss: 0.7848 - accuracy: 0.8000\n",
            "Epoch 130/160\n",
            "118/118 [==============================] - 0s 3ms/step - loss: 0.7797 - accuracy: 0.8015\n",
            "Epoch 131/160\n",
            "118/118 [==============================] - 0s 3ms/step - loss: 0.7747 - accuracy: 0.8031\n",
            "Epoch 132/160\n",
            "118/118 [==============================] - 0s 3ms/step - loss: 0.7697 - accuracy: 0.8046\n",
            "Epoch 133/160\n",
            "118/118 [==============================] - 0s 3ms/step - loss: 0.7649 - accuracy: 0.8062\n",
            "Epoch 134/160\n",
            "118/118 [==============================] - 0s 3ms/step - loss: 0.7601 - accuracy: 0.8065\n",
            "Epoch 135/160\n",
            "118/118 [==============================] - 0s 3ms/step - loss: 0.7555 - accuracy: 0.8087\n",
            "Epoch 136/160\n",
            "118/118 [==============================] - 0s 3ms/step - loss: 0.7509 - accuracy: 0.8090\n",
            "Epoch 137/160\n",
            "118/118 [==============================] - 0s 3ms/step - loss: 0.7463 - accuracy: 0.8103\n",
            "Epoch 138/160\n",
            "118/118 [==============================] - 0s 3ms/step - loss: 0.7419 - accuracy: 0.8113\n",
            "Epoch 139/160\n",
            "118/118 [==============================] - 0s 3ms/step - loss: 0.7375 - accuracy: 0.8127\n",
            "Epoch 140/160\n",
            "118/118 [==============================] - 0s 3ms/step - loss: 0.7332 - accuracy: 0.8139\n",
            "Epoch 141/160\n",
            "118/118 [==============================] - 0s 3ms/step - loss: 0.7290 - accuracy: 0.8146\n",
            "Epoch 142/160\n",
            "118/118 [==============================] - 1s 5ms/step - loss: 0.7249 - accuracy: 0.8160\n",
            "Epoch 143/160\n",
            "118/118 [==============================] - 1s 5ms/step - loss: 0.7208 - accuracy: 0.8169\n",
            "Epoch 144/160\n",
            "118/118 [==============================] - 1s 5ms/step - loss: 0.7168 - accuracy: 0.8176\n",
            "Epoch 145/160\n",
            "118/118 [==============================] - 1s 5ms/step - loss: 0.7128 - accuracy: 0.8189\n",
            "Epoch 146/160\n",
            "118/118 [==============================] - 0s 4ms/step - loss: 0.7089 - accuracy: 0.8199\n",
            "Epoch 147/160\n",
            "118/118 [==============================] - 0s 3ms/step - loss: 0.7051 - accuracy: 0.8211\n",
            "Epoch 148/160\n",
            "118/118 [==============================] - 0s 3ms/step - loss: 0.7013 - accuracy: 0.8220\n",
            "Epoch 149/160\n",
            "118/118 [==============================] - 0s 3ms/step - loss: 0.6976 - accuracy: 0.8232\n",
            "Epoch 150/160\n",
            "118/118 [==============================] - 0s 3ms/step - loss: 0.6939 - accuracy: 0.8242\n",
            "Epoch 151/160\n",
            "118/118 [==============================] - 0s 3ms/step - loss: 0.6903 - accuracy: 0.8251\n",
            "Epoch 152/160\n",
            "118/118 [==============================] - 0s 3ms/step - loss: 0.6867 - accuracy: 0.8259\n",
            "Epoch 153/160\n",
            "118/118 [==============================] - 0s 3ms/step - loss: 0.6832 - accuracy: 0.8270\n",
            "Epoch 154/160\n",
            "118/118 [==============================] - 0s 3ms/step - loss: 0.6798 - accuracy: 0.8277\n",
            "Epoch 155/160\n",
            "118/118 [==============================] - 0s 3ms/step - loss: 0.6764 - accuracy: 0.8285\n",
            "Epoch 156/160\n",
            "118/118 [==============================] - 0s 3ms/step - loss: 0.6730 - accuracy: 0.8294\n",
            "Epoch 157/160\n",
            "118/118 [==============================] - 0s 3ms/step - loss: 0.6697 - accuracy: 0.8301\n",
            "Epoch 158/160\n",
            "118/118 [==============================] - 0s 3ms/step - loss: 0.6664 - accuracy: 0.8307\n",
            "Epoch 159/160\n",
            "118/118 [==============================] - 0s 3ms/step - loss: 0.6632 - accuracy: 0.8316\n",
            "Epoch 160/160\n",
            "118/118 [==============================] - 0s 3ms/step - loss: 0.6600 - accuracy: 0.8325\n"
          ]
        },
        {
          "output_type": "execute_result",
          "data": {
            "text/plain": [
              "<keras.src.callbacks.History at 0x7e1cccebead0>"
            ]
          },
          "metadata": {},
          "execution_count": 8
        }
      ]
    },
    {
      "cell_type": "code",
      "source": [
        "\n",
        "test_loss, test_acc = network.evaluate(test_images, test_labels)\n",
        "print('Test Accuracy: {:.5f} '.format(test_acc))\n",
        "test_acc"
      ],
      "metadata": {
        "colab": {
          "base_uri": "https://localhost:8080/"
        },
        "id": "wt2sVeyWmW5Y",
        "outputId": "002a065a-ec69-4c43-b776-e26468a8cc47"
      },
      "execution_count": 9,
      "outputs": [
        {
          "output_type": "stream",
          "name": "stdout",
          "text": [
            "313/313 [==============================] - 0s 1ms/step - loss: 0.6450 - accuracy: 0.8396\n",
            "Test Accuracy: 0.83960 \n"
          ]
        },
        {
          "output_type": "execute_result",
          "data": {
            "text/plain": [
              "0.8396000266075134"
            ]
          },
          "metadata": {},
          "execution_count": 9
        }
      ]
    },
    {
      "cell_type": "code",
      "source": [
        "from keras.utils import plot_model\n",
        "plot_model(network, to_file='model.png')\n",
        "import matplotlib.pyplot as plt\n",
        "history =network.fit(train_images, train_labels, validation_split=0.33,epochs=5, batch_size=512)\n",
        "history_dict = history.history\n",
        "print(history_dict.keys())\n",
        "plt.plot(history.history['accuracy'])\n",
        "plt.plot(history.history['val_accuracy'])\n",
        "plt.title('Model accuracy')\n",
        "plt.ylabel('Accuracy')\n",
        "plt.xlabel('Epoch')\n",
        "plt.legend(['Train', 'Test'], loc='upper left')\n",
        "plt.show()\n",
        "\n",
        "\n",
        "# Plot training & validation loss values\n",
        "plt.plot(history.history['loss'])\n",
        "plt.plot(history.history['val_loss'])\n",
        "plt.title('Model loss')\n",
        "plt.ylabel('Loss')\n",
        "plt.xlabel('Epoch')\n",
        "plt.legend(['Train', 'Test'], loc='upper left')\n",
        "plt.show()"
      ],
      "metadata": {
        "colab": {
          "base_uri": "https://localhost:8080/",
          "height": 1000
        },
        "id": "AWrX0WTLmbDv",
        "outputId": "b6d1ba60-f917-4695-fced-7514dcec0201"
      },
      "execution_count": 10,
      "outputs": [
        {
          "output_type": "stream",
          "name": "stdout",
          "text": [
            "Epoch 1/5\n",
            "79/79 [==============================] - 2s 25ms/step - loss: 0.6623 - accuracy: 0.8300 - val_loss: 0.6463 - val_accuracy: 0.8403\n",
            "Epoch 2/5\n",
            "79/79 [==============================] - 1s 11ms/step - loss: 0.6601 - accuracy: 0.8314 - val_loss: 0.6443 - val_accuracy: 0.8411\n",
            "Epoch 3/5\n",
            "79/79 [==============================] - 1s 11ms/step - loss: 0.6580 - accuracy: 0.8317 - val_loss: 0.6423 - val_accuracy: 0.8414\n",
            "Epoch 4/5\n",
            "79/79 [==============================] - 1s 7ms/step - loss: 0.6559 - accuracy: 0.8329 - val_loss: 0.6403 - val_accuracy: 0.8418\n",
            "Epoch 5/5\n",
            "79/79 [==============================] - 1s 8ms/step - loss: 0.6539 - accuracy: 0.8331 - val_loss: 0.6384 - val_accuracy: 0.8423\n",
            "dict_keys(['loss', 'accuracy', 'val_loss', 'val_accuracy'])\n"
          ]
        },
        {
          "output_type": "display_data",
          "data": {
            "text/plain": [
              "<Figure size 640x480 with 1 Axes>"
            ],
            "image/png": "[encoded data removed]"
          },
          "metadata": {}
        },
        {
          "output_type": "display_data",
          "data": {
            "text/plain": [
              "<Figure size 640x480 with 1 Axes>"
            ],
            "image/png": "[encoded data removed]"
          },
          "metadata": {}
        }
      ]
    }
  ]
}